{
  "cells": [
    {
      "metadata": {},
      "cell_type": "markdown",
      "source": "# Azure Automated ML"
    },
    {
      "metadata": {
        "trusted": true
      },
      "cell_type": "code",
      "source": "import azureml.core\nimport pandas as pd\nfrom azureml.core.workspace import Workspace\nfrom azureml.train.automl.run import AutoMLRun\nimport time\nimport logging\nfrom sklearn import datasets\nfrom matplotlib import pyplot as plt\nfrom matplotlib.pyplot import imshow\nimport random\nimport numpy as np",
      "execution_count": 2,
      "outputs": [
        {
          "output_type": "stream",
          "text": "/home/nbuser/anaconda3_501/lib/python3.6/site-packages/sklearn/ensemble/weight_boosting.py:29: DeprecationWarning: numpy.core.umath_tests is an internal NumPy module and should not be imported. It will be removed in a future NumPy release.\n  from numpy.core.umath_tests import inner1d\n",
          "name": "stderr"
        }
      ]
    },
    {
      "metadata": {},
      "cell_type": "markdown",
      "source": "## Workspace 구성\n- project 폴더 경로 생성 및 config.json파일이 있어야 함\n- 구독 ID, 리소스그룹, Workspace 이름 필요 (생성도 Jupyter 내에서 할 수 있음)"
    },
    {
      "metadata": {
        "trusted": true
      },
      "cell_type": "code",
      "source": "#ws = Workspace.from_config()\n# project folder to save your local files\n#project_folder = './sample_projects/automl-local-classification'\n# choose a name for the run history container in the workspace\n#experiment_name = 'automl-classifier'",
      "execution_count": 22,
      "outputs": []
    },
    {
      "metadata": {
        "trusted": true
      },
      "cell_type": "code",
      "source": "#!cat config.json",
      "execution_count": 25,
      "outputs": []
    },
    {
      "metadata": {},
      "cell_type": "markdown",
      "source": "## Workspace 정보 출력\n- azureml SDK Version은 0.1.65"
    },
    {
      "metadata": {
        "trusted": true
      },
      "cell_type": "code",
      "source": "import os\n\n# output = {}\n# output['SDK version'] = azureml.core.VERSION\n# output['Subscription ID'] = ws.subscription_id\n# output['Workspace'] = ws.name\n# output['Resource Group'] = ws.resource_group\n# output['Location'] = ws.location\n# output['Project Directory'] = project_folder\n# pd.set_option('display.max_colwidth', -1)\n# pd.DataFrame(data=output, index=['']).T",
      "execution_count": 23,
      "outputs": []
    },
    {
      "metadata": {},
      "cell_type": "markdown",
      "source": "## 데이터 로드 - MNIST 손글씨 예제"
    },
    {
      "metadata": {
        "trusted": true
      },
      "cell_type": "code",
      "source": "from sklearn import datasets\n\ndigits = datasets.load_digits()\n\n# Exclude the first 100 rows from training so that they can be used for test.\nX_train = digits.data[100:,:]\ny_train = digits.target[100:]",
      "execution_count": 14,
      "outputs": []
    },
    {
      "metadata": {},
      "cell_type": "markdown",
      "source": "## Automated ML 모델 학습\n> 자동화 기계 학습에서 사용할 수 있는 구성 옵션\n- 실험 유형 선택 (회귀와 분류)\n- 회귀 : linear_model, GradientBoostingRegressor, Decision Tree 등 ...\n- 분류 : Logist Rergression, SVC, RandomForestClassifier 등 ...\n- 데이터 원본, 형식 및 데이터 가져오기 : Azure Blob Storage 지원 (배열 또는 데이터프레임)\n- 계산 대상 선택(로컬 또는 원격) \n- 원격으로 할 경우 data_script 매개변수를 지정하고 get_data 파일 경로를 제공해야 함.\n- 자동화된 ML 실험 설정\n- 자동화된 ML 실험 실행\n- 모델 메트릭 탐색\n- 모델 등록 및 배포\n\nhttps://docs.microsoft.com/ko-kr/azure/machine-learning/service/how-to-configure-auto-train#select-your-experiment-type\n"
    },
    {
      "metadata": {},
      "cell_type": "markdown",
      "source": "## 1. 실험 설정 구성\n- 12,000초 동안 AUC를 사용하여 '분류'하는 실험입니다.\n- primary_metric은 모델 작성시 최적화하려는 메트릭. AUC이기 때문에 Auto ML에서는 최대의 AUC를 가진 모델을 찾는다.\n- exit_score = 최소 얼만큼의 primary_metric에 충족하는 모델을 찾아달라.\n- interations = 최대 파이프라인에서 발생하는 학습 수. 고품질 모델까지 얻으려면 250개 이상 사용해야 함.\n- n_cross_validations = 교차 유효성 검사 분할의 수\n- preprocess = 실험에 입력에 대한 전처리를 수행 (누락된 데이터를 평균 값으로 넣거나 핫 인코딩으로 변환)\n- balacklist_algos = 사용하지 않을 알고리즘을 넣어 시간 절약 가능\n- verbosity = 원하는 정보 출력 \n\nhttps://aka.ms/aml-notebooks"
    },
    {
      "metadata": {
        "trusted": true
      },
      "cell_type": "code",
      "source": "from azureml.train.automl import AutoMLConfig\n\n##Local compute \nAutoml_config = AutoMLConfig(task = 'classification',\n                             primary_metric = 'AUC_weighted',\n                             max_time_sec = 12000,\n                             iterations = 20,\n                             n_cross_validations = 3,\n                             preprocess = False,\n                             exit_score = 0.9985,\n                             blacklist_algos = ['kNN','LinearSVM'],\n                             X = X_train,\n                             y = y_train,\n                             path=project_folder)",
      "execution_count": 16,
      "outputs": []
    },
    {
      "metadata": {},
      "cell_type": "markdown",
      "source": "## 2. 실험 실행 - local에서 실행"
    },
    {
      "metadata": {
        "trusted": true
      },
      "cell_type": "code",
      "source": "from azureml.core.experiment import Experiment\nexperiment=Experiment(ws, experiment_name)\nlocal_run = experiment.submit(Automl_config, show_output=True)",
      "execution_count": 17,
      "outputs": [
        {
          "output_type": "stream",
          "text": "Parent Run ID: AutoML_c55c4759-bf3e-44fd-b3e2-cdea9a43a75c\n***********************************************************************************************\nITERATION: The iteration being evaluated.\nPIPELINE: A summary description of the pipeline being evaluated.\nDURATION: Time taken for the current iteration.\nMETRIC: The result of computing score on the fitted pipeline.\nBEST: The best observed score thus far.\n***********************************************************************************************\n\n ITERATION     PIPELINE                               DURATION                METRIC      BEST\n         0      MaxAbsScaler SGDClassifierWrapper     0:00:53.482223           0.994     0.994\n         1      RobustScaler NBWrapper                0:00:48.743204           0.992     0.994\n         2      RobustScaler KNeighborsClassifier     0:00:51.294847           0.999     0.999\nStopping criteria reached at iteration {0}. Ending experiment.",
          "name": "stdout"
        }
      ]
    },
    {
      "metadata": {},
      "cell_type": "markdown",
      "source": "## 3. 결과 탐색"
    },
    {
      "metadata": {
        "trusted": true
      },
      "cell_type": "code",
      "source": "from azureml.train.widgets import RunDetails\nRunDetails(local_run).show()",
      "execution_count": 18,
      "outputs": [
        {
          "output_type": "display_data",
          "data": {
            "application/vnd.jupyter.widget-view+json": {
              "model_id": "afa790cfadc0453eb786e7185fef7a42",
              "version_minor": 0,
              "version_major": 2
            },
            "text/plain": "_AutoML(widget_settings={'childWidgetDisplay': 'popup'})"
          },
          "metadata": {}
        }
      ]
    },
    {
      "metadata": {},
      "cell_type": "markdown",
      "source": "## 4. 모든 반복 검색"
    },
    {
      "metadata": {
        "trusted": true
      },
      "cell_type": "code",
      "source": "children = list(local_run.get_children())\nmetricslist = {}\nfor run in children:\n    properties = run.get_properties()\n    metrics = {k: v for k, v in run.get_metrics().items() if isinstance(v, float)}\n    metricslist[int(properties['iteration'])] = metrics\n\nimport pandas as pd\nrundata = pd.DataFrame(metricslist).sort_index(1)\nrundata",
      "execution_count": 19,
      "outputs": [
        {
          "output_type": "execute_result",
          "execution_count": 19,
          "data": {
            "text/html": "<div>\n<style scoped>\n    .dataframe tbody tr th:only-of-type {\n        vertical-align: middle;\n    }\n\n    .dataframe tbody tr th {\n        vertical-align: top;\n    }\n\n    .dataframe thead th {\n        text-align: right;\n    }\n</style>\n<table border=\"1\" class=\"dataframe\">\n  <thead>\n    <tr style=\"text-align: right;\">\n      <th></th>\n      <th>0</th>\n      <th>1</th>\n      <th>2</th>\n    </tr>\n  </thead>\n  <tbody>\n    <tr>\n      <th>AUC_macro</th>\n      <td>0.993649</td>\n      <td>0.991635</td>\n      <td>0.999369</td>\n    </tr>\n    <tr>\n      <th>AUC_micro</th>\n      <td>0.974963</td>\n      <td>0.992614</td>\n      <td>0.999472</td>\n    </tr>\n    <tr>\n      <th>AUC_weighted</th>\n      <td>0.993672</td>\n      <td>0.991555</td>\n      <td>0.999378</td>\n    </tr>\n    <tr>\n      <th>AUC_weighted_max</th>\n      <td>0.993672</td>\n      <td>0.993672</td>\n      <td>0.999378</td>\n    </tr>\n    <tr>\n      <th>accuracy</th>\n      <td>0.793793</td>\n      <td>0.900423</td>\n      <td>0.979377</td>\n    </tr>\n    <tr>\n      <th>average_precision_score_macro</th>\n      <td>0.956203</td>\n      <td>0.944573</td>\n      <td>0.996192</td>\n    </tr>\n    <tr>\n      <th>average_precision_score_micro</th>\n      <td>0.844175</td>\n      <td>0.947317</td>\n      <td>0.996926</td>\n    </tr>\n    <tr>\n      <th>average_precision_score_weighted</th>\n      <td>0.956788</td>\n      <td>0.944635</td>\n      <td>0.996167</td>\n    </tr>\n    <tr>\n      <th>balanced_accuracy</th>\n      <td>0.881860</td>\n      <td>0.944746</td>\n      <td>0.988598</td>\n    </tr>\n    <tr>\n      <th>f1_score_macro</th>\n      <td>0.790292</td>\n      <td>0.901021</td>\n      <td>0.979316</td>\n    </tr>\n    <tr>\n      <th>f1_score_micro</th>\n      <td>0.793793</td>\n      <td>0.900423</td>\n      <td>0.979377</td>\n    </tr>\n    <tr>\n      <th>f1_score_weighted</th>\n      <td>0.798702</td>\n      <td>0.900982</td>\n      <td>0.979301</td>\n    </tr>\n    <tr>\n      <th>log_loss</th>\n      <td>0.684495</td>\n      <td>1.841312</td>\n      <td>0.088572</td>\n    </tr>\n    <tr>\n      <th>norm_macro_recall</th>\n      <td>0.762820</td>\n      <td>0.889516</td>\n      <td>0.977211</td>\n    </tr>\n    <tr>\n      <th>precision_score_macro</th>\n      <td>0.901477</td>\n      <td>0.907265</td>\n      <td>0.979753</td>\n    </tr>\n    <tr>\n      <th>precision_score_micro</th>\n      <td>0.793793</td>\n      <td>0.900423</td>\n      <td>0.979377</td>\n    </tr>\n    <tr>\n      <th>precision_score_weighted</th>\n      <td>0.902639</td>\n      <td>0.907298</td>\n      <td>0.979837</td>\n    </tr>\n    <tr>\n      <th>recall_score_macro</th>\n      <td>0.786538</td>\n      <td>0.900564</td>\n      <td>0.979490</td>\n    </tr>\n    <tr>\n      <th>recall_score_micro</th>\n      <td>0.793793</td>\n      <td>0.900423</td>\n      <td>0.979377</td>\n    </tr>\n    <tr>\n      <th>recall_score_weighted</th>\n      <td>0.793793</td>\n      <td>0.900423</td>\n      <td>0.979377</td>\n    </tr>\n    <tr>\n      <th>weighted_accuracy</th>\n      <td>0.800938</td>\n      <td>0.900086</td>\n      <td>0.979289</td>\n    </tr>\n  </tbody>\n</table>\n</div>",
            "text/plain": "                                         0         1         2\nAUC_macro                         0.993649  0.991635  0.999369\nAUC_micro                         0.974963  0.992614  0.999472\nAUC_weighted                      0.993672  0.991555  0.999378\nAUC_weighted_max                  0.993672  0.993672  0.999378\naccuracy                          0.793793  0.900423  0.979377\naverage_precision_score_macro     0.956203  0.944573  0.996192\naverage_precision_score_micro     0.844175  0.947317  0.996926\naverage_precision_score_weighted  0.956788  0.944635  0.996167\nbalanced_accuracy                 0.881860  0.944746  0.988598\nf1_score_macro                    0.790292  0.901021  0.979316\nf1_score_micro                    0.793793  0.900423  0.979377\nf1_score_weighted                 0.798702  0.900982  0.979301\nlog_loss                          0.684495  1.841312  0.088572\nnorm_macro_recall                 0.762820  0.889516  0.977211\nprecision_score_macro             0.901477  0.907265  0.979753\nprecision_score_micro             0.793793  0.900423  0.979377\nprecision_score_weighted          0.902639  0.907298  0.979837\nrecall_score_macro                0.786538  0.900564  0.979490\nrecall_score_micro                0.793793  0.900423  0.979377\nrecall_score_weighted             0.793793  0.900423  0.979377\nweighted_accuracy                 0.800938  0.900086  0.979289"
          },
          "metadata": {}
        }
      ]
    },
    {
      "metadata": {},
      "cell_type": "markdown",
      "source": "## 5. 최적 모델 등록 - local_run 개체 사용."
    },
    {
      "metadata": {
        "trusted": true
      },
      "cell_type": "code",
      "source": "# find the run with the highest accuracy value.\nbest_run, fitted_model = local_run.get_output()\n\n# register model in workspace\ndescription = 'Automated Machine Learning Model'\ntags = None\nlocal_run.register_model(description=description, tags=tags)\nlocal_run.model_id # Use this id to deploy the model as a web service in Azure",
      "execution_count": 20,
      "outputs": [
        {
          "output_type": "stream",
          "text": "Registering model AutoMLc55c4759bbest\n",
          "name": "stdout"
        },
        {
          "output_type": "execute_result",
          "execution_count": 20,
          "data": {
            "text/plain": "'AutoMLc55c4759bbest'"
          },
          "metadata": {}
        }
      ]
    },
    {
      "metadata": {},
      "cell_type": "markdown",
      "source": "## 최적 모델 테스트"
    },
    {
      "metadata": {
        "trusted": true
      },
      "cell_type": "code",
      "source": "# find 30 random samples from test set\nn = 30\nX_test = digits.data[:100, :]\ny_test = digits.target[:100]\nsample_indices = np.random.permutation(X_test.shape[0])[0:n]\ntest_samples = X_test[sample_indices]\n\n\n# predict using the  model\nresult = fitted_model.predict(test_samples)\n\n# compare actual value vs. the predicted values:\ni = 0\nplt.figure(figsize = (20, 1))\n\nfor s in sample_indices:\n    plt.subplot(1, n, i + 1)\n    plt.axhline('')\n    plt.axvline('')\n\n    # use different color for misclassified sample\n    font_color = 'red' if y_test[s] != result[i] else 'black'\n    clr_map = plt.cm.gray if y_test[s] != result[i] else plt.cm.Greys\n\n    plt.text(x = 2, y = -2, s = result[i], fontsize = 18, color = font_color)\n    plt.imshow(X_test[s].reshape(8, 8), cmap = clr_map)\n\n    i = i + 1\nplt.show()",
      "execution_count": 13,
      "outputs": [
        {
          "output_type": "display_data",
          "data": {
            "image/png": "[encoded data removed]",
            "text/plain": "<matplotlib.figure.Figure at 0x7fdc1310ef28>"
          },
          "metadata": {}
        }
      ]
    }
  ],
  "metadata": {
    "kernelspec": {
      "name": "python36",
      "display_name": "Python 3.6",
      "language": "python"
    }
  },
  "nbformat": 4,
  "nbformat_minor": 2
}